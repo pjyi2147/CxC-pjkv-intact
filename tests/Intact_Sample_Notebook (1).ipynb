{
 "cells": [
  {
   "cell_type": "markdown",
   "id": "f7bb892c",
   "metadata": {},
   "source": [
    "### Reading Data"
   ]
  },
  {
   "cell_type": "code",
   "execution_count": 2,
   "id": "8001a2b4",
   "metadata": {},
   "outputs": [
    {
     "name": "stdout",
     "output_type": "stream",
     "text": [
      "Train size 3969\n",
      "Test size 997\n"
     ]
    },
    {
     "data": {
      "text/html": [
       "<div>\n",
       "<style scoped>\n",
       "    .dataframe tbody tr th:only-of-type {\n",
       "        vertical-align: middle;\n",
       "    }\n",
       "\n",
       "    .dataframe tbody tr th {\n",
       "        vertical-align: top;\n",
       "    }\n",
       "\n",
       "    .dataframe thead th {\n",
       "        text-align: right;\n",
       "    }\n",
       "</style>\n",
       "<table border=\"1\" class=\"dataframe\">\n",
       "  <thead>\n",
       "    <tr style=\"text-align: right;\">\n",
       "      <th></th>\n",
       "      <th>medical_specialty</th>\n",
       "      <th>transcription</th>\n",
       "      <th>labels</th>\n",
       "    </tr>\n",
       "  </thead>\n",
       "  <tbody>\n",
       "    <tr>\n",
       "      <th>0</th>\n",
       "      <td>Emergency Room Reports</td>\n",
       "      <td>REASON FOR THE VISIT:,  Very high PT/INR.,HIST...</td>\n",
       "      <td>0</td>\n",
       "    </tr>\n",
       "    <tr>\n",
       "      <th>1</th>\n",
       "      <td>Surgery</td>\n",
       "      <td>PREOPERATIVE DIAGNOSIS:,  Acetabular fracture ...</td>\n",
       "      <td>1</td>\n",
       "    </tr>\n",
       "    <tr>\n",
       "      <th>2</th>\n",
       "      <td>Surgery</td>\n",
       "      <td>NAME OF PROCEDURE,1.  Selective coronary angio...</td>\n",
       "      <td>1</td>\n",
       "    </tr>\n",
       "  </tbody>\n",
       "</table>\n",
       "</div>"
      ],
      "text/plain": [
       "         medical_specialty                                      transcription  \\\n",
       "0   Emergency Room Reports  REASON FOR THE VISIT:,  Very high PT/INR.,HIST...   \n",
       "1                  Surgery  PREOPERATIVE DIAGNOSIS:,  Acetabular fracture ...   \n",
       "2                  Surgery  NAME OF PROCEDURE,1.  Selective coronary angio...   \n",
       "\n",
       "   labels  \n",
       "0       0  \n",
       "1       1  \n",
       "2       1  "
      ]
     },
     "execution_count": 2,
     "metadata": {},
     "output_type": "execute_result"
    }
   ],
   "source": [
    "import pandas as pd\n",
    "import warnings\n",
    "warnings.filterwarnings('ignore')\n",
    "\n",
    "train_df = pd.read_csv(\"new_train.csv\", index_col=0)\n",
    "test_df = pd.read_csv(\"new_test.csv\", index_col=0)\n",
    "\n",
    "print(\"Train size\", len(train_df))\n",
    "print(\"Test size\", len(test_df))\n",
    "train_df.head(n=3)"
   ]
  },
  {
   "cell_type": "code",
   "execution_count": 3,
   "id": "eace6803",
   "metadata": {},
   "outputs": [
    {
     "name": "stdout",
     "output_type": "stream",
     "text": [
      "<class 'pandas.core.frame.DataFrame'>\n",
      "Int64Index: 3969 entries, 0 to 3999\n",
      "Data columns (total 3 columns):\n",
      " #   Column             Non-Null Count  Dtype \n",
      "---  ------             --------------  ----- \n",
      " 0   medical_specialty  3969 non-null   object\n",
      " 1   transcription      3969 non-null   object\n",
      " 2   labels             3969 non-null   int64 \n",
      "dtypes: int64(1), object(2)\n",
      "memory usage: 124.0+ KB\n",
      "<class 'pandas.core.frame.DataFrame'>\n",
      "Int64Index: 997 entries, 0 to 996\n",
      "Data columns (total 1 columns):\n",
      " #   Column         Non-Null Count  Dtype \n",
      "---  ------         --------------  ----- \n",
      " 0   transcription  997 non-null    object\n",
      "dtypes: object(1)\n",
      "memory usage: 15.6+ KB\n"
     ]
    }
   ],
   "source": [
    "train_df.info()\n",
    "test_df.info()"
   ]
  },
  {
   "cell_type": "code",
   "execution_count": 4,
   "id": "db29357e",
   "metadata": {},
   "outputs": [
    {
     "data": {
      "text/plain": [
       "transcription    0\n",
       "dtype: int64"
      ]
     },
     "execution_count": 4,
     "metadata": {},
     "output_type": "execute_result"
    }
   ],
   "source": [
    "train_df.isnull().sum()\n",
    "test_df.isnull().sum()"
   ]
  },
  {
   "cell_type": "markdown",
   "id": "b326d130",
   "metadata": {},
   "source": [
    "### Train Set Label Distribution"
   ]
  },
  {
   "cell_type": "code",
   "execution_count": 5,
   "id": "c349df00",
   "metadata": {
    "scrolled": true
   },
   "outputs": [
    {
     "data": {
      "text/plain": [
       " Surgery                          863\n",
       " Consult - History and Phy.       410\n",
       " Cardiovascular / Pulmonary       309\n",
       " Orthopedic                       289\n",
       " Radiology                        213\n",
       " General Medicine                 209\n",
       " Gastroenterology                 176\n",
       " Neurology                        170\n",
       " SOAP / Chart / Progress Notes    135\n",
       " Urology                          134\n",
       " Obstetrics / Gynecology          123\n",
       " Discharge Summary                 87\n",
       " ENT - Otolaryngology              82\n",
       " Neurosurgery                      71\n",
       " Hematology - Oncology             68\n",
       " Ophthalmology                     67\n",
       " Emergency Room Reports            63\n",
       " Nephrology                        63\n",
       " Pediatrics - Neonatal             55\n",
       " Pain Management                   54\n",
       " Psychiatry / Psychology           45\n",
       " Office Notes                      38\n",
       " Podiatry                          35\n",
       " Dermatology                       21\n",
       " Dentistry                         21\n",
       " Cosmetic / Plastic Surgery        19\n",
       " Letters                           19\n",
       " Endocrinology                     16\n",
       " Physical Medicine - Rehab         16\n",
       " Bariatrics                        15\n",
       " IME-QME-Work Comp etc.            12\n",
       " Chiropractic                      12\n",
       " Sleep Medicine                    12\n",
       " Diets and Nutritions               9\n",
       " Speech - Language                  8\n",
       " Autopsy                            7\n",
       " Hospice - Palliative Care          6\n",
       " Allergy / Immunology               6\n",
       " Rheumatology                       6\n",
       " Lab Medicine - Pathology           5\n",
       "Name: medical_specialty, dtype: int64"
      ]
     },
     "execution_count": 5,
     "metadata": {},
     "output_type": "execute_result"
    }
   ],
   "source": [
    "train_df[\"medical_specialty\"].value_counts()"
   ]
  },
  {
   "cell_type": "markdown",
   "id": "9df8c8f3",
   "metadata": {},
   "source": [
    "### Sample Transcription"
   ]
  },
  {
   "cell_type": "code",
   "execution_count": 6,
   "id": "4b4b315a",
   "metadata": {
    "scrolled": true
   },
   "outputs": [
    {
     "name": "stdout",
     "output_type": "stream",
     "text": [
      "('REASON FOR THE VISIT:,  Very high PT/INR.,HISTORY: , The patient is an '\n",
      " '81-year-old lady whom I met last month when she came in with pneumonia and '\n",
      " 'CHF.  She was noticed to be in atrial fibrillation, which is a chronic '\n",
      " 'problem for her.  She did not want to have Coumadin started because she said '\n",
      " 'that she has had it before and the INR has had been very difficult to '\n",
      " 'regulate to the point that it was dangerous, but I convinced her to restart '\n",
      " 'the Coumadin again.  I gave her the Coumadin as an outpatient and then the '\n",
      " 'INR was found to be 12.  So, I told her to come to the emergency room to get '\n",
      " 'vitamin K to reverse the anticoagulation.,PAST MEDICAL HISTORY:,1.  '\n",
      " 'Congestive heart failure.,2.  Renal insufficiency.,3.  Coronary artery '\n",
      " 'disease.,4.  Atrial fibrillation.,5.  COPD.,6.  Recent pneumonia.,7.  '\n",
      " 'Bladder cancer.,8.  History of ruptured colon.,9.  Myocardial '\n",
      " 'infarction.,10.  Hernia repair.,11.  Colon resection.,12.  Carpal tunnel '\n",
      " 'repair.,13.  Knee surgery.,MEDICATIONS:,1.  Coumadin.,2.  Simvastatin.,3.  '\n",
      " 'Nitrofurantoin.,4.  Celebrex.,5.  Digoxin.,6.  Levothyroxine.,7.  '\n",
      " 'Vicodin.,8.  Triamterene and hydrochlorothiazide.,9.  Carvedilol.,SOCIAL '\n",
      " 'HISTORY:  ,She does not smoke and she does not drink.,PHYSICAL '\n",
      " 'EXAMINATION:,GENERAL:  Lady in no distress.,VITAL SIGNS:  Blood pressure '\n",
      " '100/46, pulse of 75, respirations 12, and temperature 98.2.,HEENT:  Head is '\n",
      " 'normal.,NECK:  Supple.,LUNGS:  Clear to auscultation and percussion.,HEART:  '\n",
      " 'No S3, no S4, and no murmurs.,ABDOMEN:  Soft.,EXTREMITIES:  Lower '\n",
      " 'extremities, no edema.,ASSESSMENT:,1.  Atrial fibrillation.,2.  '\n",
      " 'Coagulopathy, induced by Coumadin.,PLAN: , Her INR at the office was 12.  I '\n",
      " 'will repeat it, and if it is still elevated, I will give vitamin K 10 mg in '\n",
      " '100 mL of D5W and then send her home and repeat the PT/INR next week.  I '\n",
      " 'believe at this time that it is too risky to use Coumadin in her case '\n",
      " 'because of her age and comorbidities, the multiple medications that she '\n",
      " 'takes and it is very difficult to keep an adequate level of anticoagulation '\n",
      " 'that is safe for her.  She is prone to a fall and this would be a big '\n",
      " 'problem.  We will use one aspirin a day instead of the anticoagulation.  She '\n",
      " 'is aware of the risk of stroke, but she is very scared of the '\n",
      " 'anticoagulation with Coumadin and does not want to use the Coumadin at this '\n",
      " 'time and I understand.  We will see her as an outpatient.')\n"
     ]
    }
   ],
   "source": [
    "from pprint import pprint\n",
    "pprint(train_df.transcription[0])"
   ]
  },
  {
   "cell_type": "markdown",
   "id": "24a7ca94",
   "metadata": {},
   "source": [
    "### Data Transformation"
   ]
  },
  {
   "cell_type": "code",
   "execution_count": 13,
   "id": "f5a3c29f",
   "metadata": {},
   "outputs": [
    {
     "data": {
      "text/html": [
       "<div>\n",
       "<style scoped>\n",
       "    .dataframe tbody tr th:only-of-type {\n",
       "        vertical-align: middle;\n",
       "    }\n",
       "\n",
       "    .dataframe tbody tr th {\n",
       "        vertical-align: top;\n",
       "    }\n",
       "\n",
       "    .dataframe thead th {\n",
       "        text-align: right;\n",
       "    }\n",
       "</style>\n",
       "<table border=\"1\" class=\"dataframe\">\n",
       "  <thead>\n",
       "    <tr style=\"text-align: right;\">\n",
       "      <th></th>\n",
       "      <th>medical_specialty</th>\n",
       "      <th>transcription</th>\n",
       "      <th>labels</th>\n",
       "      <th>tokenized</th>\n",
       "      <th>POSTags</th>\n",
       "      <th>Nouns</th>\n",
       "    </tr>\n",
       "  </thead>\n",
       "  <tbody>\n",
       "    <tr>\n",
       "      <th>1496</th>\n",
       "      <td>Obstetrics / Gynecology</td>\n",
       "      <td>preoperative diagnoses intrauterine pregnancy ...</td>\n",
       "      <td>19</td>\n",
       "      <td>[preoperative, diagnoses, intrauterine, pregna...</td>\n",
       "      <td>[(preoperative, JJ), (diagnoses, NNS), (intrau...</td>\n",
       "      <td>[(diagnoses, NNS), (pregnancy, NN), (term, NN)...</td>\n",
       "    </tr>\n",
       "    <tr>\n",
       "      <th>722</th>\n",
       "      <td>Consult - History and Phy.</td>\n",
       "      <td>chief complaint \"i have had trouble breathing ...</td>\n",
       "      <td>16</td>\n",
       "      <td>[chief, complaint, ``, i, have, had, trouble, ...</td>\n",
       "      <td>[(chief, JJ), (complaint, NN), (``, ``), (i, N...</td>\n",
       "      <td>[(complaint, NN), (i, NN), (trouble, NN), (day...</td>\n",
       "    </tr>\n",
       "    <tr>\n",
       "      <th>1215</th>\n",
       "      <td>General Medicine</td>\n",
       "      <td>history the patient is a   -year-old male who ...</td>\n",
       "      <td>10</td>\n",
       "      <td>[history, the, patient, is, a, -year-old, male...</td>\n",
       "      <td>[(history, NN), (the, DT), (patient, NN), (is,...</td>\n",
       "      <td>[(history, NN), (patient, NN), (male, NN), (fi...</td>\n",
       "    </tr>\n",
       "    <tr>\n",
       "      <th>3744</th>\n",
       "      <td>Cardiovascular / Pulmonary</td>\n",
       "      <td>indications  previously markedly abnormal dobu...</td>\n",
       "      <td>7</td>\n",
       "      <td>[indications, previously, markedly, abnormal, ...</td>\n",
       "      <td>[(indications, NNS), (previously, RB), (marked...</td>\n",
       "      <td>[(indications, NNS), (dobutamine, NN), (myovie...</td>\n",
       "    </tr>\n",
       "    <tr>\n",
       "      <th>1471</th>\n",
       "      <td>Neurology</td>\n",
       "      <td>cc lethargy  hx this   y/o rhm was admitted to...</td>\n",
       "      <td>4</td>\n",
       "      <td>[cc, lethargy, hx, this, y/o, rhm, was, admitt...</td>\n",
       "      <td>[(cc, NN), (lethargy, NN), (hx, NN), (this, DT...</td>\n",
       "      <td>[(cc, NN), (lethargy, NN), (hx, NN), (y/o, NN)...</td>\n",
       "    </tr>\n",
       "  </tbody>\n",
       "</table>\n",
       "</div>"
      ],
      "text/plain": [
       "                medical_specialty  \\\n",
       "1496      Obstetrics / Gynecology   \n",
       "722    Consult - History and Phy.   \n",
       "1215             General Medicine   \n",
       "3744   Cardiovascular / Pulmonary   \n",
       "1471                    Neurology   \n",
       "\n",
       "                                          transcription  labels  \\\n",
       "1496  preoperative diagnoses intrauterine pregnancy ...      19   \n",
       "722   chief complaint \"i have had trouble breathing ...      16   \n",
       "1215  history the patient is a   -year-old male who ...      10   \n",
       "3744  indications  previously markedly abnormal dobu...       7   \n",
       "1471  cc lethargy  hx this   y/o rhm was admitted to...       4   \n",
       "\n",
       "                                              tokenized  \\\n",
       "1496  [preoperative, diagnoses, intrauterine, pregna...   \n",
       "722   [chief, complaint, ``, i, have, had, trouble, ...   \n",
       "1215  [history, the, patient, is, a, -year-old, male...   \n",
       "3744  [indications, previously, markedly, abnormal, ...   \n",
       "1471  [cc, lethargy, hx, this, y/o, rhm, was, admitt...   \n",
       "\n",
       "                                                POSTags  \\\n",
       "1496  [(preoperative, JJ), (diagnoses, NNS), (intrau...   \n",
       "722   [(chief, JJ), (complaint, NN), (``, ``), (i, N...   \n",
       "1215  [(history, NN), (the, DT), (patient, NN), (is,...   \n",
       "3744  [(indications, NNS), (previously, RB), (marked...   \n",
       "1471  [(cc, NN), (lethargy, NN), (hx, NN), (this, DT...   \n",
       "\n",
       "                                                  Nouns  \n",
       "1496  [(diagnoses, NNS), (pregnancy, NN), (term, NN)...  \n",
       "722   [(complaint, NN), (i, NN), (trouble, NN), (day...  \n",
       "1215  [(history, NN), (patient, NN), (male, NN), (fi...  \n",
       "3744  [(indications, NNS), (dobutamine, NN), (myovie...  \n",
       "1471  [(cc, NN), (lethargy, NN), (hx, NN), (y/o, NN)...  "
      ]
     },
     "execution_count": 13,
     "metadata": {},
     "output_type": "execute_result"
    }
   ],
   "source": [
    "train_df.transcription = train_df.transcription.astype('str')\n",
    "train_df.transcription = train_df.transcription.str.lower()\n",
    "\n",
    "train_df = train_df.dropna(axis = 0, how ='any')\n",
    "\n",
    "#getting rid of targeted charachters in the trascription\n",
    "chars = ['#',':,',': ,',';','$','!','?','*','``','1', '2', '3', '4', '5','6','7','8','9','10']\n",
    "for c in chars:\n",
    "    train_df.transcription = train_df.transcription.str.replace(c,\"\")\n",
    "\n",
    "train_df.sample(5)\n",
    "\n",
    "#getting rid of targeted charachters in the trascription\n",
    "chars = [\",\", \".\", \"[\", \"]\", \":\", \"``\", \")\", \"(\"]\n",
    "for c in chars:\n",
    "    train_df.transcription = train_df.transcription.str.replace(c,\" \")\n",
    "\n",
    "train_df.sample(5)"
   ]
  },
  {
   "cell_type": "code",
   "execution_count": 14,
   "id": "582d6df5",
   "metadata": {},
   "outputs": [
    {
     "data": {
      "text/html": [
       "<div>\n",
       "<style scoped>\n",
       "    .dataframe tbody tr th:only-of-type {\n",
       "        vertical-align: middle;\n",
       "    }\n",
       "\n",
       "    .dataframe tbody tr th {\n",
       "        vertical-align: top;\n",
       "    }\n",
       "\n",
       "    .dataframe thead th {\n",
       "        text-align: right;\n",
       "    }\n",
       "</style>\n",
       "<table border=\"1\" class=\"dataframe\">\n",
       "  <thead>\n",
       "    <tr style=\"text-align: right;\">\n",
       "      <th></th>\n",
       "      <th>medical_specialty</th>\n",
       "      <th>transcription</th>\n",
       "      <th>labels</th>\n",
       "      <th>tokenized</th>\n",
       "      <th>POSTags</th>\n",
       "      <th>Nouns</th>\n",
       "    </tr>\n",
       "  </thead>\n",
       "  <tbody>\n",
       "    <tr>\n",
       "      <th>730</th>\n",
       "      <td>Psychiatry / Psychology</td>\n",
       "      <td>history of present illness    this is a   -yea...</td>\n",
       "      <td>15</td>\n",
       "      <td>[history, of, present, illness, this, is, a, -...</td>\n",
       "      <td>[(history, NN), (of, IN), (present, JJ), (illn...</td>\n",
       "      <td>[(history, NN), (illness, NN), (man, NN), (ons...</td>\n",
       "    </tr>\n",
       "    <tr>\n",
       "      <th>2868</th>\n",
       "      <td>Surgery</td>\n",
       "      <td>preoperative diagnoses chronic adenotonsilliti...</td>\n",
       "      <td>1</td>\n",
       "      <td>[preoperative, diagnoses, chronic, adenotonsil...</td>\n",
       "      <td>[(preoperative, JJ), (diagnoses, NNS), (chroni...</td>\n",
       "      <td>[(diagnoses, NNS), (adenotonsillitis, NN), (an...</td>\n",
       "    </tr>\n",
       "    <tr>\n",
       "      <th>2106</th>\n",
       "      <td>Orthopedic</td>\n",
       "      <td>reason for referral  evaluation for right l  s...</td>\n",
       "      <td>6</td>\n",
       "      <td>[reason, for, referral, evaluation, for, right...</td>\n",
       "      <td>[(reason, NN), (for, IN), (referral, JJ), (eva...</td>\n",
       "      <td>[(reason, NN), (evaluation, NN), (l, NN), (ner...</td>\n",
       "    </tr>\n",
       "    <tr>\n",
       "      <th>3019</th>\n",
       "      <td>Surgery</td>\n",
       "      <td>preoperative diagnosis breast mass  left  post...</td>\n",
       "      <td>1</td>\n",
       "      <td>[preoperative, diagnosis, breast, mass, left, ...</td>\n",
       "      <td>[(preoperative, JJ), (diagnosis, NN), (breast,...</td>\n",
       "      <td>[(diagnosis, NN), (breast, NN), (mass, NN), (d...</td>\n",
       "    </tr>\n",
       "    <tr>\n",
       "      <th>3852</th>\n",
       "      <td>Neurology</td>\n",
       "      <td>reason for visit    followup cervical spinal s...</td>\n",
       "      <td>4</td>\n",
       "      <td>[reason, for, visit, followup, cervical, spina...</td>\n",
       "      <td>[(reason, NN), (for, IN), (visit, NN), (follow...</td>\n",
       "      <td>[(reason, NN), (visit, NN), (stenosis, NN), (h...</td>\n",
       "    </tr>\n",
       "  </tbody>\n",
       "</table>\n",
       "</div>"
      ],
      "text/plain": [
       "             medical_specialty  \\\n",
       "730    Psychiatry / Psychology   \n",
       "2868                   Surgery   \n",
       "2106                Orthopedic   \n",
       "3019                   Surgery   \n",
       "3852                 Neurology   \n",
       "\n",
       "                                          transcription  labels  \\\n",
       "730   history of present illness    this is a   -yea...      15   \n",
       "2868  preoperative diagnoses chronic adenotonsilliti...       1   \n",
       "2106  reason for referral  evaluation for right l  s...       6   \n",
       "3019  preoperative diagnosis breast mass  left  post...       1   \n",
       "3852  reason for visit    followup cervical spinal s...       4   \n",
       "\n",
       "                                              tokenized  \\\n",
       "730   [history, of, present, illness, this, is, a, -...   \n",
       "2868  [preoperative, diagnoses, chronic, adenotonsil...   \n",
       "2106  [reason, for, referral, evaluation, for, right...   \n",
       "3019  [preoperative, diagnosis, breast, mass, left, ...   \n",
       "3852  [reason, for, visit, followup, cervical, spina...   \n",
       "\n",
       "                                                POSTags  \\\n",
       "730   [(history, NN), (of, IN), (present, JJ), (illn...   \n",
       "2868  [(preoperative, JJ), (diagnoses, NNS), (chroni...   \n",
       "2106  [(reason, NN), (for, IN), (referral, JJ), (eva...   \n",
       "3019  [(preoperative, JJ), (diagnosis, NN), (breast,...   \n",
       "3852  [(reason, NN), (for, IN), (visit, NN), (follow...   \n",
       "\n",
       "                                                  Nouns  \n",
       "730   [(history, NN), (illness, NN), (man, NN), (ons...  \n",
       "2868  [(diagnoses, NNS), (adenotonsillitis, NN), (an...  \n",
       "2106  [(reason, NN), (evaluation, NN), (l, NN), (ner...  \n",
       "3019  [(diagnosis, NN), (breast, NN), (mass, NN), (d...  \n",
       "3852  [(reason, NN), (visit, NN), (stenosis, NN), (h...  "
      ]
     },
     "execution_count": 14,
     "metadata": {},
     "output_type": "execute_result"
    }
   ],
   "source": [
    "# Tokenizing\n",
    "import nltk\n",
    "# nltk.download('punkt')\n",
    "# nltk.download('stopwords')\n",
    "# nltk.download('averaged_perceptron_tagger')\n",
    "# nltk.download('tagsets')\n",
    "from nltk.tokenize import word_tokenize\n",
    "\n",
    "train_df['tokenized'] = train_df.transcription.apply(nltk.word_tokenize)\n",
    "train_df.sample(5)"
   ]
  },
  {
   "cell_type": "code",
   "execution_count": 9,
   "id": "396dcbbb",
   "metadata": {},
   "outputs": [
    {
     "data": {
      "text/plain": [
       "[('reason', 'NN'),\n",
       " ('for', 'IN'),\n",
       " ('the', 'DT'),\n",
       " ('visit', 'NN'),\n",
       " ('very', 'RB'),\n",
       " ('high', 'JJ'),\n",
       " ('pt/inr', 'NN'),\n",
       " ('history', 'NN'),\n",
       " ('the', 'DT'),\n",
       " ('patient', 'NN'),\n",
       " ('is', 'VBZ'),\n",
       " ('an', 'DT'),\n",
       " ('-year-old', 'JJ'),\n",
       " ('lady', 'NN'),\n",
       " ('whom', 'WP'),\n",
       " ('i', 'VBZ'),\n",
       " ('met', 'VBD'),\n",
       " ('last', 'JJ'),\n",
       " ('month', 'NN'),\n",
       " ('when', 'WRB'),\n",
       " ('she', 'PRP'),\n",
       " ('came', 'VBD'),\n",
       " ('in', 'IN'),\n",
       " ('with', 'IN'),\n",
       " ('pneumonia', 'NN'),\n",
       " ('and', 'CC'),\n",
       " ('chf', 'NN'),\n",
       " ('she', 'PRP'),\n",
       " ('was', 'VBD'),\n",
       " ('noticed', 'VBN'),\n",
       " ('to', 'TO'),\n",
       " ('be', 'VB'),\n",
       " ('in', 'IN'),\n",
       " ('atrial', 'JJ'),\n",
       " ('fibrillation', 'NN'),\n",
       " ('which', 'WDT'),\n",
       " ('is', 'VBZ'),\n",
       " ('a', 'DT'),\n",
       " ('chronic', 'JJ'),\n",
       " ('problem', 'NN'),\n",
       " ('for', 'IN'),\n",
       " ('her', 'PRP$'),\n",
       " ('she', 'PRP'),\n",
       " ('did', 'VBD'),\n",
       " ('not', 'RB'),\n",
       " ('want', 'VB'),\n",
       " ('to', 'TO'),\n",
       " ('have', 'VB'),\n",
       " ('coumadin', 'NN'),\n",
       " ('started', 'VBN'),\n",
       " ('because', 'IN'),\n",
       " ('she', 'PRP'),\n",
       " ('said', 'VBD'),\n",
       " ('that', 'IN'),\n",
       " ('she', 'PRP'),\n",
       " ('has', 'VBZ'),\n",
       " ('had', 'VBD'),\n",
       " ('it', 'PRP'),\n",
       " ('before', 'IN'),\n",
       " ('and', 'CC'),\n",
       " ('the', 'DT'),\n",
       " ('inr', 'NN'),\n",
       " ('has', 'VBZ'),\n",
       " ('had', 'VBN'),\n",
       " ('been', 'VBN'),\n",
       " ('very', 'RB'),\n",
       " ('difficult', 'JJ'),\n",
       " ('to', 'TO'),\n",
       " ('regulate', 'VB'),\n",
       " ('to', 'TO'),\n",
       " ('the', 'DT'),\n",
       " ('point', 'NN'),\n",
       " ('that', 'IN'),\n",
       " ('it', 'PRP'),\n",
       " ('was', 'VBD'),\n",
       " ('dangerous', 'JJ'),\n",
       " ('but', 'CC'),\n",
       " ('i', 'JJ'),\n",
       " ('convinced', 'VBD'),\n",
       " ('her', 'PRP'),\n",
       " ('to', 'TO'),\n",
       " ('restart', 'VB'),\n",
       " ('the', 'DT'),\n",
       " ('coumadin', 'NN'),\n",
       " ('again', 'RB'),\n",
       " ('i', 'JJ'),\n",
       " ('gave', 'VBD'),\n",
       " ('her', 'PRP$'),\n",
       " ('the', 'DT'),\n",
       " ('coumadin', 'NN'),\n",
       " ('as', 'IN'),\n",
       " ('an', 'DT'),\n",
       " ('outpatient', 'NN'),\n",
       " ('and', 'CC'),\n",
       " ('then', 'RB'),\n",
       " ('the', 'DT'),\n",
       " ('inr', 'NN'),\n",
       " ('was', 'VBD'),\n",
       " ('found', 'VBN'),\n",
       " ('to', 'TO'),\n",
       " ('be', 'VB'),\n",
       " ('so', 'RB'),\n",
       " ('i', 'JJ'),\n",
       " ('told', 'VBD'),\n",
       " ('her', 'PRP'),\n",
       " ('to', 'TO'),\n",
       " ('come', 'VB'),\n",
       " ('to', 'TO'),\n",
       " ('the', 'DT'),\n",
       " ('emergency', 'NN'),\n",
       " ('room', 'NN'),\n",
       " ('to', 'TO'),\n",
       " ('get', 'VB'),\n",
       " ('vitamin', 'JJ'),\n",
       " ('k', 'NN'),\n",
       " ('to', 'TO'),\n",
       " ('reverse', 'VB'),\n",
       " ('the', 'DT'),\n",
       " ('anticoagulation', 'NN'),\n",
       " ('past', 'IN'),\n",
       " ('medical', 'JJ'),\n",
       " ('history', 'NN'),\n",
       " ('congestive', 'JJ'),\n",
       " ('heart', 'NN'),\n",
       " ('failure', 'NN'),\n",
       " ('renal', 'JJ'),\n",
       " ('insufficiency', 'NN'),\n",
       " ('coronary', 'JJ'),\n",
       " ('artery', 'NN'),\n",
       " ('disease', 'NN'),\n",
       " ('atrial', 'JJ'),\n",
       " ('fibrillation', 'NN'),\n",
       " ('copd', 'NN'),\n",
       " ('recent', 'JJ'),\n",
       " ('pneumonia', 'NN'),\n",
       " ('bladder', 'NN'),\n",
       " ('cancer', 'NN'),\n",
       " ('history', 'NN'),\n",
       " ('of', 'IN'),\n",
       " ('ruptured', 'JJ'),\n",
       " ('colon', 'NN'),\n",
       " ('myocardial', 'JJ'),\n",
       " ('infarction', 'NN'),\n",
       " ('hernia', 'NN'),\n",
       " ('repair', 'NN'),\n",
       " ('colon', 'NN'),\n",
       " ('resection', 'NN'),\n",
       " ('carpal', 'JJ'),\n",
       " ('tunnel', 'NN'),\n",
       " ('repair', 'NN'),\n",
       " ('knee', 'NN'),\n",
       " ('surgery', 'NN'),\n",
       " ('medications', 'NNS'),\n",
       " ('coumadin', 'VBP'),\n",
       " ('simvastatin', 'JJ'),\n",
       " ('nitrofurantoin', 'JJ'),\n",
       " ('celebrex', 'NN'),\n",
       " ('digoxin', 'NN'),\n",
       " ('levothyroxine', 'NN'),\n",
       " ('vicodin', 'NN'),\n",
       " ('triamterene', 'NN'),\n",
       " ('and', 'CC'),\n",
       " ('hydrochlorothiazide', 'VB'),\n",
       " ('carvedilol', 'JJ'),\n",
       " ('social', 'JJ'),\n",
       " ('history', 'NN'),\n",
       " ('she', 'PRP'),\n",
       " ('does', 'VBZ'),\n",
       " ('not', 'RB'),\n",
       " ('smoke', 'VB'),\n",
       " ('and', 'CC'),\n",
       " ('she', 'PRP'),\n",
       " ('does', 'VBZ'),\n",
       " ('not', 'RB'),\n",
       " ('drink', 'VB'),\n",
       " ('physical', 'JJ'),\n",
       " ('examinationgeneral', 'JJ'),\n",
       " ('lady', 'NN'),\n",
       " ('in', 'IN'),\n",
       " ('no', 'DT'),\n",
       " ('distress', 'NN'),\n",
       " ('vital', 'JJ'),\n",
       " ('signs', 'NNS'),\n",
       " ('blood', 'NN'),\n",
       " ('pressure', 'NN'),\n",
       " ('/', 'NNP'),\n",
       " ('pulse', 'NN'),\n",
       " ('of', 'IN'),\n",
       " ('respirations', 'NNS'),\n",
       " ('and', 'CC'),\n",
       " ('temperature', 'NN'),\n",
       " ('heent', 'NN'),\n",
       " ('head', 'NN'),\n",
       " ('is', 'VBZ'),\n",
       " ('normal', 'JJ'),\n",
       " ('neck', 'RB'),\n",
       " ('supple', 'JJ'),\n",
       " ('lungs', 'NNS'),\n",
       " ('clear', 'JJ'),\n",
       " ('to', 'TO'),\n",
       " ('auscultation', 'NN'),\n",
       " ('and', 'CC'),\n",
       " ('percussion', 'NN'),\n",
       " ('heart', 'NN'),\n",
       " ('no', 'DT'),\n",
       " ('sno', 'NN'),\n",
       " ('sand', 'NN'),\n",
       " ('no', 'DT'),\n",
       " ('murmurs', 'NNS'),\n",
       " ('abdomen', 'VBP'),\n",
       " ('soft', 'JJ'),\n",
       " ('extremities', 'NNS'),\n",
       " ('lower', 'JJR'),\n",
       " ('extremities', 'VBZ'),\n",
       " ('no', 'DT'),\n",
       " ('edema', 'JJ'),\n",
       " ('assessment', 'NN'),\n",
       " ('atrial', 'JJ'),\n",
       " ('fibrillation', 'NN'),\n",
       " ('coagulopathy', 'NN'),\n",
       " ('induced', 'VBN'),\n",
       " ('by', 'IN'),\n",
       " ('coumadin', 'NN'),\n",
       " ('plan', 'NN'),\n",
       " ('her', 'PRP$'),\n",
       " ('inr', 'NN'),\n",
       " ('at', 'IN'),\n",
       " ('the', 'DT'),\n",
       " ('office', 'NN'),\n",
       " ('was', 'VBD'),\n",
       " ('i', 'VBN'),\n",
       " ('will', 'MD'),\n",
       " ('repeat', 'VB'),\n",
       " ('it', 'PRP'),\n",
       " ('and', 'CC'),\n",
       " ('if', 'IN'),\n",
       " ('it', 'PRP'),\n",
       " ('is', 'VBZ'),\n",
       " ('still', 'RB'),\n",
       " ('elevated', 'VBN'),\n",
       " ('i', 'NN'),\n",
       " ('will', 'MD'),\n",
       " ('give', 'VB'),\n",
       " ('vitamin', 'NN'),\n",
       " ('k', 'NN'),\n",
       " ('mg', 'NN'),\n",
       " ('in', 'IN'),\n",
       " ('ml', 'NN'),\n",
       " ('of', 'IN'),\n",
       " ('dand', 'NN'),\n",
       " ('then', 'RB'),\n",
       " ('send', 'VB'),\n",
       " ('her', 'PRP$'),\n",
       " ('home', 'NN'),\n",
       " ('and', 'CC'),\n",
       " ('repeat', 'VB'),\n",
       " ('the', 'DT'),\n",
       " ('pt/inr', 'NN'),\n",
       " ('next', 'IN'),\n",
       " ('week', 'NN'),\n",
       " ('i', 'NN'),\n",
       " ('believe', 'VBP'),\n",
       " ('at', 'IN'),\n",
       " ('this', 'DT'),\n",
       " ('time', 'NN'),\n",
       " ('that', 'IN'),\n",
       " ('it', 'PRP'),\n",
       " ('is', 'VBZ'),\n",
       " ('too', 'RB'),\n",
       " ('risky', 'JJ'),\n",
       " ('to', 'TO'),\n",
       " ('use', 'VB'),\n",
       " ('coumadin', 'NN'),\n",
       " ('in', 'IN'),\n",
       " ('her', 'PRP$'),\n",
       " ('case', 'NN'),\n",
       " ('because', 'IN'),\n",
       " ('of', 'IN'),\n",
       " ('her', 'PRP$'),\n",
       " ('age', 'NN'),\n",
       " ('and', 'CC'),\n",
       " ('comorbidities', 'VBZ'),\n",
       " ('the', 'DT'),\n",
       " ('multiple', 'JJ'),\n",
       " ('medications', 'NNS'),\n",
       " ('that', 'IN'),\n",
       " ('she', 'PRP'),\n",
       " ('takes', 'VBZ'),\n",
       " ('and', 'CC'),\n",
       " ('it', 'PRP'),\n",
       " ('is', 'VBZ'),\n",
       " ('very', 'RB'),\n",
       " ('difficult', 'JJ'),\n",
       " ('to', 'TO'),\n",
       " ('keep', 'VB'),\n",
       " ('an', 'DT'),\n",
       " ('adequate', 'JJ'),\n",
       " ('level', 'NN'),\n",
       " ('of', 'IN'),\n",
       " ('anticoagulation', 'NN'),\n",
       " ('that', 'WDT'),\n",
       " ('is', 'VBZ'),\n",
       " ('safe', 'JJ'),\n",
       " ('for', 'IN'),\n",
       " ('her', 'PRP$'),\n",
       " ('she', 'PRP'),\n",
       " ('is', 'VBZ'),\n",
       " ('prone', 'JJ'),\n",
       " ('to', 'TO'),\n",
       " ('a', 'DT'),\n",
       " ('fall', 'NN'),\n",
       " ('and', 'CC'),\n",
       " ('this', 'DT'),\n",
       " ('would', 'MD'),\n",
       " ('be', 'VB'),\n",
       " ('a', 'DT'),\n",
       " ('big', 'JJ'),\n",
       " ('problem', 'NN'),\n",
       " ('we', 'PRP'),\n",
       " ('will', 'MD'),\n",
       " ('use', 'VB'),\n",
       " ('one', 'CD'),\n",
       " ('aspirin', 'NN'),\n",
       " ('a', 'DT'),\n",
       " ('day', 'NN'),\n",
       " ('instead', 'RB'),\n",
       " ('of', 'IN'),\n",
       " ('the', 'DT'),\n",
       " ('anticoagulation', 'NN'),\n",
       " ('she', 'PRP'),\n",
       " ('is', 'VBZ'),\n",
       " ('aware', 'JJ'),\n",
       " ('of', 'IN'),\n",
       " ('the', 'DT'),\n",
       " ('risk', 'NN'),\n",
       " ('of', 'IN'),\n",
       " ('stroke', 'NN'),\n",
       " ('but', 'CC'),\n",
       " ('she', 'PRP'),\n",
       " ('is', 'VBZ'),\n",
       " ('very', 'RB'),\n",
       " ('scared', 'JJ'),\n",
       " ('of', 'IN'),\n",
       " ('the', 'DT'),\n",
       " ('anticoagulation', 'NN'),\n",
       " ('with', 'IN'),\n",
       " ('coumadin', 'NN'),\n",
       " ('and', 'CC'),\n",
       " ('does', 'VBZ'),\n",
       " ('not', 'RB'),\n",
       " ('want', 'VB'),\n",
       " ('to', 'TO'),\n",
       " ('use', 'VB'),\n",
       " ('the', 'DT'),\n",
       " ('coumadin', 'NN'),\n",
       " ('at', 'IN'),\n",
       " ('this', 'DT'),\n",
       " ('time', 'NN'),\n",
       " ('and', 'CC'),\n",
       " ('i', 'JJ'),\n",
       " ('understand', 'VBP'),\n",
       " ('we', 'PRP'),\n",
       " ('will', 'MD'),\n",
       " ('see', 'VB'),\n",
       " ('her', 'PRP'),\n",
       " ('as', 'IN'),\n",
       " ('an', 'DT'),\n",
       " ('outpatient', 'NN')]"
      ]
     },
     "execution_count": 9,
     "metadata": {},
     "output_type": "execute_result"
    }
   ],
   "source": [
    "# pos_tag\n",
    "from nltk import pos_tag\n",
    "nltk.tag.pos_tag(train_df['tokenized'][0])"
   ]
  },
  {
   "cell_type": "code",
   "execution_count": 10,
   "id": "7be2d80c",
   "metadata": {},
   "outputs": [
    {
     "data": {
      "text/plain": [
       "0    [(reason, NN), (for, IN), (the, DT), (visit, N...\n",
       "1    [(preoperative, JJ), (diagnosis, NN), (acetabu...\n",
       "2    [(name, NN), (of, IN), (procedure, NN), (selec...\n",
       "3    [(referring, VBG), (diagnosis, NN), (motor, NN...\n",
       "4    [(chief, JJ), (complaint, NN), (dental, NN), (...\n",
       "Name: POSTags, dtype: object"
      ]
     },
     "execution_count": 10,
     "metadata": {},
     "output_type": "execute_result"
    }
   ],
   "source": [
    "train_df['POSTags'] = train_df['tokenized'].apply(pos_tag)\n",
    "train_df['POSTags'].head()"
   ]
  },
  {
   "cell_type": "code",
   "execution_count": 11,
   "id": "dbf65c21",
   "metadata": {},
   "outputs": [
    {
     "data": {
      "text/plain": [
       "0       [(reason, NN), (visit, NN), (pt/inr, NN), (his...\n",
       "1       [(diagnosis, NN), (fracture, NN), (left, NN), ...\n",
       "2       [(name, NN), (procedure, NN), (angiography, NN...\n",
       "3       [(diagnosis, NN), (motor, NN), (neuron, NN), (...\n",
       "4       [(complaint, NN), (dental, NN), (pain, NN), (h...\n",
       "                              ...                        \n",
       "3995    [(problems, NNS), (issues, NNS), (headaches, N...\n",
       "3996    [(diagnosis, NN), (anemia, NN), (procedure, NN...\n",
       "3997    [(dysphagia, NN), (gastroesophageal, NN), (ref...\n",
       "3998    [(patient, NN), (s, NN), (abdomen, NNS), (fash...\n",
       "3999    [(diagnosis, NN), (effusion, NN), (failure, NN...\n",
       "Name: Nouns, Length: 3969, dtype: object"
      ]
     },
     "execution_count": 11,
     "metadata": {},
     "output_type": "execute_result"
    }
   ],
   "source": [
    "# Selecting the nouns in our corpus\n",
    "train_df['Nouns'] = train_df['POSTags'].apply(lambda x: [(t[0], t[1]) for t in x if t[1]=='NN' or t[1]=='NNP' or t[1]=='NNS' or t[1]=='NNPS'])\n",
    "\n",
    "train_df['Nouns']"
   ]
  },
  {
   "cell_type": "markdown",
   "id": "0f1b6f4d",
   "metadata": {},
   "source": [
    "### Sample Training"
   ]
  },
  {
   "cell_type": "code",
   "execution_count": 7,
   "id": "68977658",
   "metadata": {},
   "outputs": [],
   "source": [
    "import sys\n",
    "#!{sys.executable} -m pip install nltk\n",
    "from datasets.dataset_dict import DatasetDict\n",
    "from datasets import Dataset\n",
    "from torch import nn\n",
    "import torch\n",
    "from transformers import AutoModelForSequenceClassification, AutoTokenizer, Trainer, TrainingArguments\n",
    "from sklearn.model_selection import train_test_split\n",
    "import nltk"
   ]
  },
  {
   "cell_type": "code",
   "execution_count": 5,
   "id": "3e142223",
   "metadata": {},
   "outputs": [],
   "source": [
    "unique_classes = train_df[\"medical_specialty\"].unique()\n",
    "\n",
    "# idx_2_class = {i: s for i, s in enumerate(unique_classes)}\n",
    "# class_2_idx = {s: i for i, s in enumerate(unique_classes)}"
   ]
  },
  {
   "cell_type": "code",
   "execution_count": 6,
   "id": "cac5d380",
   "metadata": {},
   "outputs": [],
   "source": [
    "# train_df[\"labels\"] = train_df[\"medical_specialty\"].apply(lambda s: class_2_idx[s])"
   ]
  },
  {
   "cell_type": "code",
   "execution_count": 7,
   "id": "233a4365",
   "metadata": {},
   "outputs": [],
   "source": [
    "train_train_df, train_test_df = \\\n",
    "    train_test_split(\n",
    "    train_df,\n",
    "    test_size=0.3,\n",
    "    random_state=42\n",
    ")"
   ]
  },
  {
   "cell_type": "code",
   "execution_count": 8,
   "id": "449f16bd",
   "metadata": {},
   "outputs": [],
   "source": [
    "ds_dict = {\n",
    "    'train': Dataset.from_pandas(train_train_df),\n",
    "    'val': Dataset.from_pandas(train_test_df),\n",
    "    \"test\": Dataset.from_pandas(test_df)\n",
    "}\n",
    "\n",
    "ds = DatasetDict(ds_dict)"
   ]
  },
  {
   "cell_type": "code",
   "execution_count": 9,
   "id": "a995f402",
   "metadata": {
    "scrolled": true
   },
   "outputs": [
    {
     "data": {
      "application/vnd.jupyter.widget-view+json": {
       "model_id": "050c128256364b7aad95061545e7216b",
       "version_major": 2,
       "version_minor": 0
      },
      "text/plain": [
       "  0%|          | 0/3 [00:00<?, ?ba/s]"
      ]
     },
     "metadata": {},
     "output_type": "display_data"
    },
    {
     "data": {
      "application/vnd.jupyter.widget-view+json": {
       "model_id": "c1a4bd66bf194865b4318232c90e935c",
       "version_major": 2,
       "version_minor": 0
      },
      "text/plain": [
       "  0%|          | 0/2 [00:00<?, ?ba/s]"
      ]
     },
     "metadata": {},
     "output_type": "display_data"
    },
    {
     "data": {
      "application/vnd.jupyter.widget-view+json": {
       "model_id": "03426bfe2c314502ad8f96dccae1ef65",
       "version_major": 2,
       "version_minor": 0
      },
      "text/plain": [
       "  0%|          | 0/1 [00:00<?, ?ba/s]"
      ]
     },
     "metadata": {},
     "output_type": "display_data"
    },
    {
     "data": {
      "text/plain": [
       "DatasetDict({\n",
       "    train: Dataset({\n",
       "        features: ['medical_specialty', 'transcription', 'labels', '__index_level_0__', 'input_ids', 'attention_mask'],\n",
       "        num_rows: 2778\n",
       "    })\n",
       "    val: Dataset({\n",
       "        features: ['medical_specialty', 'transcription', 'labels', '__index_level_0__', 'input_ids', 'attention_mask'],\n",
       "        num_rows: 1191\n",
       "    })\n",
       "    test: Dataset({\n",
       "        features: ['transcription', '__index_level_0__', 'input_ids', 'attention_mask'],\n",
       "        num_rows: 997\n",
       "    })\n",
       "})"
      ]
     },
     "execution_count": 9,
     "metadata": {},
     "output_type": "execute_result"
    }
   ],
   "source": [
    "model_name = \"distilbert-base-uncased\"\n",
    "tokenizer = AutoTokenizer.from_pretrained(model_name)\n",
    "\n",
    "def tokenize_text(texts):\n",
    "    return tokenizer(texts[\"transcription\"], truncation=True, padding=True, max_length=256)\n",
    "\n",
    "ds[\"train\"] = ds[\"train\"].map(tokenize_text, batched=True)\n",
    "ds[\"val\"] = ds[\"val\"].map(tokenize_text, batched=True)\n",
    "ds[\"test\"] = ds[\"test\"].map(tokenize_text, batched=True)"
   ]
  },
  {
   "cell_type": "code",
   "execution_count": 10,
   "id": "fa6c4319",
   "metadata": {},
   "outputs": [
    {
     "name": "stderr",
     "output_type": "stream",
     "text": [
      "Some weights of the model checkpoint at distilbert-base-uncased were not used when initializing DistilBertForSequenceClassification: ['vocab_transform.weight', 'vocab_layer_norm.weight', 'vocab_projector.weight', 'vocab_layer_norm.bias', 'vocab_transform.bias', 'vocab_projector.bias']\n",
      "- This IS expected if you are initializing DistilBertForSequenceClassification from the checkpoint of a model trained on another task or with another architecture (e.g. initializing a BertForSequenceClassification model from a BertForPreTraining model).\n",
      "- This IS NOT expected if you are initializing DistilBertForSequenceClassification from the checkpoint of a model that you expect to be exactly identical (initializing a BertForSequenceClassification model from a BertForSequenceClassification model).\n",
      "Some weights of DistilBertForSequenceClassification were not initialized from the model checkpoint at distilbert-base-uncased and are newly initialized: ['pre_classifier.bias', 'classifier.bias', 'pre_classifier.weight', 'classifier.weight']\n",
      "You should probably TRAIN this model on a down-stream task to be able to use it for predictions and inference.\n"
     ]
    }
   ],
   "source": [
    "model = AutoModelForSequenceClassification.from_pretrained(\n",
    "    model_name,\n",
    "    num_labels=len(unique_classes)\n",
    ")"
   ]
  },
  {
   "cell_type": "markdown",
   "id": "e22ca876",
   "metadata": {},
   "source": [
    "### Evaluation Metric"
   ]
  },
  {
   "cell_type": "code",
   "execution_count": 11,
   "id": "1f26fe53",
   "metadata": {},
   "outputs": [],
   "source": [
    "from sklearn.metrics import f1_score\n",
    "\n",
    "def compute_metrics(pred):\n",
    "    labels = pred.label_ids\n",
    "    preds = pred.predictions.argmax(-1)\n",
    "    f1 = f1_score(labels, preds, average=\"macro\")\n",
    "    return {\"f1\": f1}"
   ]
  },
  {
   "cell_type": "code",
   "execution_count": 12,
   "id": "414f5205",
   "metadata": {},
   "outputs": [],
   "source": [
    "batch_size = 32\n",
    "logging_steps = len(train_train_df) // batch_size\n",
    "output_dir = \"hf_trainer\"\n",
    "\n",
    "training_args = TrainingArguments(\n",
    "    output_dir=output_dir,\n",
    "     num_train_epochs=5,\n",
    "     learning_rate=2e-5,\n",
    "     per_device_train_batch_size=batch_size,\n",
    "     per_device_eval_batch_size=batch_size,\n",
    "     weight_decay=0.01,\n",
    "     evaluation_strategy=\"epoch\",\n",
    "     logging_steps=logging_steps,\n",
    "     push_to_hub=False\n",
    ")"
   ]
  },
  {
   "cell_type": "code",
   "execution_count": 13,
   "id": "994876be",
   "metadata": {},
   "outputs": [],
   "source": [
    "trainer = Trainer(\n",
    "    model=model,\n",
    "    args=training_args,\n",
    "    compute_metrics=compute_metrics,\n",
    "    train_dataset=ds['train'],\n",
    "    eval_dataset=ds['val'],\n",
    "    tokenizer=tokenizer\n",
    ")"
   ]
  },
  {
   "cell_type": "code",
   "execution_count": null,
   "id": "c8cfca94",
   "metadata": {},
   "outputs": [
    {
     "name": "stderr",
     "output_type": "stream",
     "text": [
      "The following columns in the training set don't have a corresponding argument in `DistilBertForSequenceClassification.forward` and have been ignored: __index_level_0__, transcription, medical_specialty. If __index_level_0__, transcription, medical_specialty are not expected by `DistilBertForSequenceClassification.forward`,  you can safely ignore this message.\n",
      "/opt/anaconda3/lib/python3.9/site-packages/transformers/optimization.py:306: FutureWarning: This implementation of AdamW is deprecated and will be removed in a future version. Use the PyTorch implementation torch.optim.AdamW instead, or set `no_deprecation_warning=True` to disable this warning\n",
      "  warnings.warn(\n",
      "***** Running training *****\n",
      "  Num examples = 2778\n",
      "  Num Epochs = 5\n",
      "  Instantaneous batch size per device = 32\n"
     ]
    }
   ],
   "source": [
    "trainer.train()"
   ]
  },
  {
   "cell_type": "markdown",
   "id": "e0a6603a",
   "metadata": {},
   "source": [
    "### Making Inference on the Test Set"
   ]
  },
  {
   "cell_type": "code",
   "execution_count": null,
   "id": "d3bc4a1d",
   "metadata": {},
   "outputs": [],
   "source": [
    "ds[\"test\"]"
   ]
  },
  {
   "cell_type": "code",
   "execution_count": null,
   "id": "d0d1f4da",
   "metadata": {},
   "outputs": [],
   "source": [
    "pred_y = trainer.predict(ds[\"test\"])"
   ]
  },
  {
   "cell_type": "code",
   "execution_count": null,
   "id": "0411c232",
   "metadata": {},
   "outputs": [],
   "source": [
    "a = pd.Series(pred_y.predictions.argmax(axis=1))\n",
    "a.name = \"Expected\"\n",
    "a.to_csv(\"predictions.csv\")"
   ]
  },
  {
   "cell_type": "code",
   "execution_count": null,
   "id": "42dcad01",
   "metadata": {},
   "outputs": [],
   "source": []
  },
  {
   "cell_type": "code",
   "execution_count": null,
   "id": "d09d0948",
   "metadata": {},
   "outputs": [],
   "source": []
  }
 ],
 "metadata": {
  "kernelspec": {
   "display_name": "Python 3 (ipykernel)",
   "language": "python",
   "name": "python3"
  },
  "language_info": {
   "codemirror_mode": {
    "name": "ipython",
    "version": 3
   },
   "file_extension": ".py",
   "mimetype": "text/x-python",
   "name": "python",
   "nbconvert_exporter": "python",
   "pygments_lexer": "ipython3",
   "version": "3.9.12"
  },
  "vscode": {
   "interpreter": {
    "hash": "31f2aee4e71d21fbe5cf8b01ff0e069b9275f58929596ceb00d14d90e3e16cd6"
   }
  }
 },
 "nbformat": 4,
 "nbformat_minor": 5
}
